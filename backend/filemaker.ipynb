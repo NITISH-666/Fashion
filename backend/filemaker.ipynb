{
 "cells": [
  {
   "cell_type": "code",
   "execution_count": null,
   "metadata": {},
   "outputs": [],
   "source": [
    "import pandas as pd"
   ]
  },
  {
   "cell_type": "code",
   "execution_count": null,
   "metadata": {},
   "outputs": [],
   "source": [
    "df = pd.read_json('articles.json')"
   ]
  },
  {
   "cell_type": "code",
   "execution_count": null,
   "metadata": {},
   "outputs": [],
   "source": [
    "df.head(3)"
   ]
  },
  {
   "cell_type": "code",
   "execution_count": null,
   "metadata": {},
   "outputs": [],
   "source": [
    "df['article_id'].nunique()"
   ]
  },
  {
   "cell_type": "code",
   "execution_count": null,
   "metadata": {},
   "outputs": [],
   "source": [
    "for i in df.columns:\n",
    "    print(i + ' : ', df[i].nunique())"
   ]
  },
  {
   "cell_type": "code",
   "execution_count": null,
   "metadata": {},
   "outputs": [],
   "source": [
    "df['garment_group_no'].unique()"
   ]
  },
  {
   "cell_type": "code",
   "execution_count": null,
   "metadata": {},
   "outputs": [],
   "source": [
    "df['index_code'].unique()"
   ]
  },
  {
   "cell_type": "code",
   "execution_count": null,
   "metadata": {},
   "outputs": [],
   "source": [
    "df['index_name'].unique()"
   ]
  },
  {
   "cell_type": "code",
   "execution_count": null,
   "metadata": {},
   "outputs": [],
   "source": [
    "import os"
   ]
  },
  {
   "cell_type": "code",
   "execution_count": 35,
   "metadata": {},
   "outputs": [
    {
     "name": "stdout",
     "output_type": "stream",
     "text": [
      "./items/A/1013/\n",
      "./items/A/1007/\n",
      "./items/A/1009/\n",
      "./items/A/1005/\n",
      "./items/A/1003/\n",
      "./items/A/1017/\n",
      "./items/A/1016/\n",
      "./items/A/1008/\n",
      "./items/A/1002/\n",
      "./items/A/1010/\n",
      "./items/A/1019/\n",
      "./items/A/1012/\n",
      "./items/A/1023/\n",
      "./items/A/1001/\n",
      "./items/A/1025/\n",
      "./items/D/1013/\n",
      "./items/D/1007/\n",
      "./items/D/1009/\n",
      "./items/D/1005/\n",
      "./items/D/1003/\n",
      "./items/D/1017/\n",
      "./items/D/1018/\n",
      "./items/D/1016/\n",
      "./items/D/1002/\n",
      "./items/D/1010/\n",
      "./items/D/1020/\n",
      "./items/D/1019/\n",
      "./items/D/1012/\n",
      "./items/D/1023/\n",
      "./items/D/1001/\n",
      "./items/D/1025/\n",
      "./items/B/1017/\n",
      "./items/B/1018/\n",
      "./items/B/1021/\n",
      "./items/S/1007/\n",
      "./items/S/1005/\n",
      "./items/S/1019/\n",
      "./items/S/1001/\n",
      "./items/C/1020/\n",
      "./items/C/1019/\n",
      "./items/F/1007/\n",
      "./items/F/1009/\n",
      "./items/F/1005/\n",
      "./items/F/1003/\n",
      "./items/F/1017/\n",
      "./items/F/1018/\n",
      "./items/F/1016/\n",
      "./items/F/1008/\n",
      "./items/F/1002/\n",
      "./items/F/1020/\n",
      "./items/F/1019/\n",
      "./items/F/1021/\n",
      "./items/F/1023/\n",
      "./items/F/1001/\n",
      "./items/F/1025/\n",
      "./items/F/1011/\n",
      "./items/G/1007/\n",
      "./items/G/1005/\n",
      "./items/G/1003/\n",
      "./items/G/1017/\n",
      "./items/G/1002/\n",
      "./items/G/1020/\n",
      "./items/G/1019/\n",
      "./items/G/1021/\n",
      "./items/G/1023/\n",
      "./items/G/1006/\n",
      "./items/H/1007/\n",
      "./items/H/1009/\n",
      "./items/H/1005/\n",
      "./items/H/1003/\n",
      "./items/H/1017/\n",
      "./items/H/1016/\n",
      "./items/H/1002/\n",
      "./items/H/1021/\n",
      "./items/H/1023/\n",
      "./items/H/1001/\n",
      "./items/H/1025/\n",
      "./items/H/1014/\n",
      "./items/H/1011/\n",
      "./items/J/1018/\n",
      "./items/J/1020/\n",
      "./items/J/1019/\n",
      "./items/I/1007/\n",
      "./items/I/1009/\n",
      "./items/I/1005/\n",
      "./items/I/1003/\n",
      "./items/I/1017/\n",
      "./items/I/1016/\n",
      "./items/I/1002/\n",
      "./items/I/1021/\n",
      "./items/I/1025/\n",
      "./items/I/1014/\n",
      "./items/I/1011/\n"
     ]
    }
   ],
   "source": [
    "DIR = './items/'\n",
    "for code in df['index_code'].unique():\n",
    "    for grupNo in df['garment_group_no'].unique():\n",
    "        path = DIR  + str(code) + '/' + str(grupNo) + '/'\n",
    "        temp = df.loc[(df['index_code']==code) & (df['garment_group_no'] == grupNo)]\n",
    "        if not temp.empty :\n",
    "            ndf = temp.copy()\n",
    "            print(path)\n",
    "            os.makedirs(path, exist_ok=True)\n",
    "            fname = str(code)+'_'+str(grupNo)+'.json'\n",
    "            ndf.to_json(path + fname, 'records')\n",
    "            "
   ]
  },
  {
   "cell_type": "code",
   "execution_count": 3,
   "metadata": {},
   "outputs": [],
   "source": [
    "import glob\n",
    "import pandas as pd\n",
    "sum = 0\n",
    "\n",
    "for file in glob.glob('./items/*/*/*.json'):\n",
    "    df = pd.read_json(file)\n",
    "    sum += df.shape[0]"
   ]
  },
  {
   "cell_type": "code",
   "execution_count": 4,
   "metadata": {},
   "outputs": [
    {
     "data": {
      "text/plain": [
       "61248"
      ]
     },
     "execution_count": 4,
     "metadata": {},
     "output_type": "execute_result"
    }
   ],
   "source": [
    "sum"
   ]
  },
  {
   "cell_type": "code",
   "execution_count": null,
   "metadata": {},
   "outputs": [],
   "source": []
  }
 ],
 "metadata": {
  "kernelspec": {
   "display_name": "Python 3",
   "language": "python",
   "name": "python3"
  },
  "language_info": {
   "codemirror_mode": {
    "name": "ipython",
    "version": 3
   },
   "file_extension": ".py",
   "mimetype": "text/x-python",
   "name": "python",
   "nbconvert_exporter": "python",
   "pygments_lexer": "ipython3",
   "version": "3.10.12"
  }
 },
 "nbformat": 4,
 "nbformat_minor": 2
}
