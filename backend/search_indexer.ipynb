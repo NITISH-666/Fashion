{
 "cells": [
  {
   "cell_type": "code",
   "execution_count": 1,
   "metadata": {},
   "outputs": [],
   "source": [
    "import pandas as pd\n",
    "import numpy as np\n",
    "import os\n",
    "import glob"
   ]
  },
  {
   "cell_type": "code",
   "execution_count": 2,
   "metadata": {},
   "outputs": [],
   "source": [
    "df = pd.read_json('./articles.json')"
   ]
  },
  {
   "cell_type": "code",
   "execution_count": 3,
   "metadata": {},
   "outputs": [
    {
     "data": {
      "text/html": [
       "<div>\n",
       "<style scoped>\n",
       "    .dataframe tbody tr th:only-of-type {\n",
       "        vertical-align: middle;\n",
       "    }\n",
       "\n",
       "    .dataframe tbody tr th {\n",
       "        vertical-align: top;\n",
       "    }\n",
       "\n",
       "    .dataframe thead th {\n",
       "        text-align: right;\n",
       "    }\n",
       "</style>\n",
       "<table border=\"1\" class=\"dataframe\">\n",
       "  <thead>\n",
       "    <tr style=\"text-align: right;\">\n",
       "      <th></th>\n",
       "      <th>article_id</th>\n",
       "      <th>product_code</th>\n",
       "      <th>prod_name</th>\n",
       "      <th>product_type_no</th>\n",
       "      <th>product_type_name</th>\n",
       "      <th>product_group_name</th>\n",
       "      <th>graphical_appearance_no</th>\n",
       "      <th>graphical_appearance_name</th>\n",
       "      <th>colour_group_code</th>\n",
       "      <th>colour_group_name</th>\n",
       "      <th>...</th>\n",
       "      <th>department_name</th>\n",
       "      <th>index_code</th>\n",
       "      <th>index_name</th>\n",
       "      <th>index_group_no</th>\n",
       "      <th>index_group_name</th>\n",
       "      <th>section_no</th>\n",
       "      <th>section_name</th>\n",
       "      <th>garment_group_no</th>\n",
       "      <th>garment_group_name</th>\n",
       "      <th>detail_desc</th>\n",
       "    </tr>\n",
       "  </thead>\n",
       "  <tbody>\n",
       "    <tr>\n",
       "      <th>0</th>\n",
       "      <td>835247001</td>\n",
       "      <td>835247</td>\n",
       "      <td>Supernova</td>\n",
       "      <td>265</td>\n",
       "      <td>Dress</td>\n",
       "      <td>Garment Full body</td>\n",
       "      <td>1010004</td>\n",
       "      <td>Check</td>\n",
       "      <td>9</td>\n",
       "      <td>Black</td>\n",
       "      <td>...</td>\n",
       "      <td>Dress</td>\n",
       "      <td>A</td>\n",
       "      <td>Ladieswear</td>\n",
       "      <td>1</td>\n",
       "      <td>Ladieswear</td>\n",
       "      <td>15</td>\n",
       "      <td>Womens Everyday Collection</td>\n",
       "      <td>1013</td>\n",
       "      <td>Dresses Ladies</td>\n",
       "      <td>Calf-length dress in a softly draping viscose ...</td>\n",
       "    </tr>\n",
       "    <tr>\n",
       "      <th>1</th>\n",
       "      <td>802930002</td>\n",
       "      <td>802930</td>\n",
       "      <td>New York pile jacket</td>\n",
       "      <td>262</td>\n",
       "      <td>Jacket</td>\n",
       "      <td>Garment Upper body</td>\n",
       "      <td>1010016</td>\n",
       "      <td>Solid</td>\n",
       "      <td>11</td>\n",
       "      <td>Off White</td>\n",
       "      <td>...</td>\n",
       "      <td>Outdoor/Blazers</td>\n",
       "      <td>D</td>\n",
       "      <td>Divided</td>\n",
       "      <td>2</td>\n",
       "      <td>Divided</td>\n",
       "      <td>53</td>\n",
       "      <td>Divided Collection</td>\n",
       "      <td>1007</td>\n",
       "      <td>Outdoor</td>\n",
       "      <td>Pile jacket with a wide collar, zip down the f...</td>\n",
       "    </tr>\n",
       "    <tr>\n",
       "      <th>2</th>\n",
       "      <td>760084008</td>\n",
       "      <td>760084</td>\n",
       "      <td>Victorville HW Pull-on TRS</td>\n",
       "      <td>272</td>\n",
       "      <td>Trousers</td>\n",
       "      <td>Garment Lower body</td>\n",
       "      <td>1010001</td>\n",
       "      <td>All over pattern</td>\n",
       "      <td>19</td>\n",
       "      <td>Greenish Khaki</td>\n",
       "      <td>...</td>\n",
       "      <td>Trousers</td>\n",
       "      <td>D</td>\n",
       "      <td>Divided</td>\n",
       "      <td>2</td>\n",
       "      <td>Divided</td>\n",
       "      <td>53</td>\n",
       "      <td>Divided Collection</td>\n",
       "      <td>1009</td>\n",
       "      <td>Trousers</td>\n",
       "      <td>Ankle-length trousers in cotton twill with a h...</td>\n",
       "    </tr>\n",
       "    <tr>\n",
       "      <th>3</th>\n",
       "      <td>804662002</td>\n",
       "      <td>804662</td>\n",
       "      <td>Kendall body</td>\n",
       "      <td>253</td>\n",
       "      <td>Vest top</td>\n",
       "      <td>Garment Upper body</td>\n",
       "      <td>1010016</td>\n",
       "      <td>Solid</td>\n",
       "      <td>9</td>\n",
       "      <td>Black</td>\n",
       "      <td>...</td>\n",
       "      <td>Tops Fancy Jersey</td>\n",
       "      <td>D</td>\n",
       "      <td>Divided</td>\n",
       "      <td>2</td>\n",
       "      <td>Divided</td>\n",
       "      <td>53</td>\n",
       "      <td>Divided Collection</td>\n",
       "      <td>1005</td>\n",
       "      <td>Jersey Fancy</td>\n",
       "      <td>Sleeveless body in jersey with a slight sheen....</td>\n",
       "    </tr>\n",
       "    <tr>\n",
       "      <th>4</th>\n",
       "      <td>801554002</td>\n",
       "      <td>801554</td>\n",
       "      <td>Wheeler body</td>\n",
       "      <td>254</td>\n",
       "      <td>Top</td>\n",
       "      <td>Garment Upper body</td>\n",
       "      <td>1010001</td>\n",
       "      <td>All over pattern</td>\n",
       "      <td>9</td>\n",
       "      <td>Black</td>\n",
       "      <td>...</td>\n",
       "      <td>Tops Fancy Jersey</td>\n",
       "      <td>D</td>\n",
       "      <td>Divided</td>\n",
       "      <td>2</td>\n",
       "      <td>Divided</td>\n",
       "      <td>53</td>\n",
       "      <td>Divided Collection</td>\n",
       "      <td>1005</td>\n",
       "      <td>Jersey Fancy</td>\n",
       "      <td>Fitted body in jersey containing glittery thre...</td>\n",
       "    </tr>\n",
       "  </tbody>\n",
       "</table>\n",
       "<p>5 rows × 25 columns</p>\n",
       "</div>"
      ],
      "text/plain": [
       "   article_id  product_code                   prod_name  product_type_no  \\\n",
       "0   835247001        835247                   Supernova              265   \n",
       "1   802930002        802930        New York pile jacket              262   \n",
       "2   760084008        760084  Victorville HW Pull-on TRS              272   \n",
       "3   804662002        804662                Kendall body              253   \n",
       "4   801554002        801554                Wheeler body              254   \n",
       "\n",
       "  product_type_name  product_group_name  graphical_appearance_no  \\\n",
       "0             Dress   Garment Full body                  1010004   \n",
       "1            Jacket  Garment Upper body                  1010016   \n",
       "2          Trousers  Garment Lower body                  1010001   \n",
       "3          Vest top  Garment Upper body                  1010016   \n",
       "4               Top  Garment Upper body                  1010001   \n",
       "\n",
       "  graphical_appearance_name  colour_group_code colour_group_name  ...  \\\n",
       "0                     Check                  9             Black  ...   \n",
       "1                     Solid                 11         Off White  ...   \n",
       "2          All over pattern                 19    Greenish Khaki  ...   \n",
       "3                     Solid                  9             Black  ...   \n",
       "4          All over pattern                  9             Black  ...   \n",
       "\n",
       "     department_name index_code  index_name index_group_no  index_group_name  \\\n",
       "0              Dress          A  Ladieswear              1        Ladieswear   \n",
       "1    Outdoor/Blazers          D     Divided              2           Divided   \n",
       "2           Trousers          D     Divided              2           Divided   \n",
       "3  Tops Fancy Jersey          D     Divided              2           Divided   \n",
       "4  Tops Fancy Jersey          D     Divided              2           Divided   \n",
       "\n",
       "  section_no                section_name garment_group_no  garment_group_name  \\\n",
       "0         15  Womens Everyday Collection             1013      Dresses Ladies   \n",
       "1         53          Divided Collection             1007             Outdoor   \n",
       "2         53          Divided Collection             1009            Trousers   \n",
       "3         53          Divided Collection             1005        Jersey Fancy   \n",
       "4         53          Divided Collection             1005        Jersey Fancy   \n",
       "\n",
       "                                         detail_desc  \n",
       "0  Calf-length dress in a softly draping viscose ...  \n",
       "1  Pile jacket with a wide collar, zip down the f...  \n",
       "2  Ankle-length trousers in cotton twill with a h...  \n",
       "3  Sleeveless body in jersey with a slight sheen....  \n",
       "4  Fitted body in jersey containing glittery thre...  \n",
       "\n",
       "[5 rows x 25 columns]"
      ]
     },
     "execution_count": 3,
     "metadata": {},
     "output_type": "execute_result"
    }
   ],
   "source": [
    "df.head()"
   ]
  },
  {
   "cell_type": "code",
   "execution_count": 9,
   "metadata": {},
   "outputs": [
    {
     "data": {
      "text/plain": [
       "array([265, 262, 272, 253, 254, 256, 252, 245, 306, 286,  59, 283, 275,\n",
       "       264, 308, 258,  87,  78, 302, 255,  66, 144, 296, 263, 273,  77,\n",
       "        68, 304,  72, 259, 297,  80, 298,  57, 299,  49, 274,  67, 504,\n",
       "       267, 295,  70, 270,  75,  81,  85, 231, 496, 261,  94, 257, 305,\n",
       "       303,  76,  86,  71,  79,  -1, 293,  74, 300, 268,  84,  69,  91,\n",
       "       288,  93, 289, 467, 477, 503,  92, 475,  89,  90, 277, 230, 285,\n",
       "        88, 512, 100, 271, 499, 498, 276,  73,  98,  95, 508,  82, 307,\n",
       "       489, 260, 532, 287, 511, 509, 495, 291, 529, 476, 326,  83, 465,\n",
       "       155, 161,  60, 156, 284, 514, 525, 102, 515, 366,  96, 494, 470,\n",
       "       493, 762, 492, 761, 491, 483, 468, 523, 510, 389, 521])"
      ]
     },
     "execution_count": 9,
     "metadata": {},
     "output_type": "execute_result"
    }
   ],
   "source": [
    "df['product_type_no'].unique()"
   ]
  },
  {
   "cell_type": "code",
   "execution_count": 7,
   "metadata": {},
   "outputs": [
    {
     "data": {
      "text/plain": [
       "127"
      ]
     },
     "execution_count": 7,
     "metadata": {},
     "output_type": "execute_result"
    }
   ],
   "source": [
    "df['product_type_name'].nunique()"
   ]
  },
  {
   "cell_type": "code",
   "execution_count": 10,
   "metadata": {},
   "outputs": [
    {
     "data": {
      "text/plain": [
       "Index(['article_id', 'product_code', 'prod_name', 'product_type_no',\n",
       "       'product_type_name', 'product_group_name', 'graphical_appearance_no',\n",
       "       'graphical_appearance_name', 'colour_group_code', 'colour_group_name',\n",
       "       'perceived_colour_value_id', 'perceived_colour_value_name',\n",
       "       'perceived_colour_master_id', 'perceived_colour_master_name',\n",
       "       'department_no', 'department_name', 'index_code', 'index_name',\n",
       "       'index_group_no', 'index_group_name', 'section_no', 'section_name',\n",
       "       'garment_group_no', 'garment_group_name', 'detail_desc'],\n",
       "      dtype='object')"
      ]
     },
     "execution_count": 10,
     "metadata": {},
     "output_type": "execute_result"
    }
   ],
   "source": [
    "df.columns"
   ]
  },
  {
   "cell_type": "code",
   "execution_count": 11,
   "metadata": {},
   "outputs": [
    {
     "data": {
      "text/plain": [
       "293"
      ]
     },
     "execution_count": 11,
     "metadata": {},
     "output_type": "execute_result"
    }
   ],
   "source": [
    "df['department_no'].nunique()"
   ]
  },
  {
   "cell_type": "code",
   "execution_count": 12,
   "metadata": {},
   "outputs": [
    {
     "data": {
      "text/plain": [
       "244"
      ]
     },
     "execution_count": 12,
     "metadata": {},
     "output_type": "execute_result"
    }
   ],
   "source": [
    "df['department_name'].nunique()"
   ]
  },
  {
   "cell_type": "code",
   "execution_count": 15,
   "metadata": {},
   "outputs": [],
   "source": [
    "## section , index_group_name can be mapped"
   ]
  },
  {
   "cell_type": "code",
   "execution_count": 28,
   "metadata": {},
   "outputs": [
    {
     "name": "stdout",
     "output_type": "stream",
     "text": [
      "product_type_name 127\n",
      "product_type_no 128\n",
      "graphical_appearance_name 30\n",
      "graphical_appearance_no 30\n",
      "colour_group_name 50\n",
      "colour_group_code 50\n",
      "department_name 244\n",
      "department_no 293\n",
      "index_name 10\n",
      "index_code 10\n",
      "index_group_name 5\n",
      "index_group_no 5\n",
      "section_name 56\n",
      "section_no 56\n",
      "garment_group_name 21\n",
      "garment_group_no 21\n"
     ]
    }
   ],
   "source": [
    "for column in df.columns:\n",
    "    if 'name' in column : \n",
    "        severed = column[:len(column)-4]\n",
    "        number_col = severed + 'no'\n",
    "        code_col = severed+'code'\n",
    "        if number_col in df.columns: \n",
    "            print(column, df[column].nunique())\n",
    "            print(number_col, df[number_col].nunique())\n",
    "        if code_col in df.columns: \n",
    "            print(column, df[column].nunique())\n",
    "            print(code_col, df[code_col].nunique())\n",
    "           \n"
   ]
  },
  {
   "cell_type": "code",
   "execution_count": null,
   "metadata": {},
   "outputs": [],
   "source": []
  }
 ],
 "metadata": {
  "kernelspec": {
   "display_name": "Python 3",
   "language": "python",
   "name": "python3"
  },
  "language_info": {
   "codemirror_mode": {
    "name": "ipython",
    "version": 3
   },
   "file_extension": ".py",
   "mimetype": "text/x-python",
   "name": "python",
   "nbconvert_exporter": "python",
   "pygments_lexer": "ipython3",
   "version": "3.10.12"
  }
 },
 "nbformat": 4,
 "nbformat_minor": 2
}
